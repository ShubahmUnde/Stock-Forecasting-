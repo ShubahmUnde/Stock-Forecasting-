{
 "cells": [
  {
   "cell_type": "markdown",
   "metadata": {},
   "source": [
    "# __TIME SERIES "
   ]
  },
  {
   "cell_type": "markdown",
   "metadata": {},
   "source": [
    " * __Predicting the Stock of MRF using Time series__"
   ]
  },
  {
   "cell_type": "markdown",
   "metadata": {},
   "source": [
    "* __In mathematics, a time series is a series of data points indexed in time order. Most commonly, a time series is a sequence taken at successive equally spaced points in time. Thus it is a sequence of discrete-time data__\n"
   ]
  },
  {
   "cell_type": "markdown",
   "metadata": {},
   "source": [
    "_________________________________________________________________________________________"
   ]
  },
  {
   "cell_type": "code",
   "execution_count": 2,
   "metadata": {},
   "outputs": [],
   "source": [
    "import pandas as pd\n",
    "import numpy as np\n",
    "import matplotlib.pyplot as plt\n",
    "import statsmodels.api as sm\n",
    "#ADF (augmented Dicky -Fuller test)\n",
    "from statsmodels.tsa.stattools import adfuller,acf,pacf\n",
    "#ljung-Box test\n",
    "import statsmodels.api as sm\n",
    "#ARIMA model\n",
    "from statsmodels.tsa.arima_model import ARIMA"
   ]
  },
  {
   "cell_type": "code",
   "execution_count": 4,
   "metadata": {},
   "outputs": [
    {
     "name": "stdout",
     "output_type": "stream",
     "text": [
      "<class 'pandas.core.frame.DataFrame'>\n",
      "RangeIndex: 125 entries, 0 to 124\n",
      "Data columns (total 12 columns):\n",
      " #   Column                     Non-Null Count  Dtype  \n",
      "---  ------                     --------------  -----  \n",
      " 0   Month                      125 non-null    object \n",
      " 1   Open Price                 125 non-null    float64\n",
      " 2   High Price                 125 non-null    float64\n",
      " 3   Low Price                  125 non-null    float64\n",
      " 4   Close Price                125 non-null    float64\n",
      " 5   No.of Shares               125 non-null    int64  \n",
      " 6   No. of Trades              125 non-null    int64  \n",
      " 7   Total Turnover (Rs.)       125 non-null    int64  \n",
      " 8   Deliverable Quantity       125 non-null    int64  \n",
      " 9   % Deli. Qty to Traded Qty  125 non-null    float64\n",
      " 10  Spread High-Low            125 non-null    float64\n",
      " 11  Spread Close-Open          125 non-null    float64\n",
      "dtypes: float64(7), int64(4), object(1)\n",
      "memory usage: 11.8+ KB\n"
     ]
    }
   ],
   "source": [
    "stock=pd.read_csv('F:\\\\DATA SCIENCE\\\\R and stats\\\\WORKING OF R\\\\Unsupervised learning\\\\Time series\\\\MRF stock forecast\\\\mrf.csv')\n",
    "stock.info()\n"
   ]
  },
  {
   "cell_type": "code",
   "execution_count": 5,
   "metadata": {},
   "outputs": [
    {
     "data": {
      "text/html": [
       "<div>\n",
       "<style scoped>\n",
       "    .dataframe tbody tr th:only-of-type {\n",
       "        vertical-align: middle;\n",
       "    }\n",
       "\n",
       "    .dataframe tbody tr th {\n",
       "        vertical-align: top;\n",
       "    }\n",
       "\n",
       "    .dataframe thead th {\n",
       "        text-align: right;\n",
       "    }\n",
       "</style>\n",
       "<table border=\"1\" class=\"dataframe\">\n",
       "  <thead>\n",
       "    <tr style=\"text-align: right;\">\n",
       "      <th></th>\n",
       "      <th>Month</th>\n",
       "      <th>Open Price</th>\n",
       "      <th>High Price</th>\n",
       "      <th>Low Price</th>\n",
       "      <th>Close Price</th>\n",
       "      <th>No.of Shares</th>\n",
       "      <th>No. of Trades</th>\n",
       "      <th>Total Turnover (Rs.)</th>\n",
       "      <th>Deliverable Quantity</th>\n",
       "      <th>% Deli. Qty to Traded Qty</th>\n",
       "      <th>Spread High-Low</th>\n",
       "      <th>Spread Close-Open</th>\n",
       "    </tr>\n",
       "  </thead>\n",
       "  <tbody>\n",
       "    <tr>\n",
       "      <th>0</th>\n",
       "      <td>Jan-06</td>\n",
       "      <td>2780.0</td>\n",
       "      <td>2895.50</td>\n",
       "      <td>2670.00</td>\n",
       "      <td>2811.60</td>\n",
       "      <td>39623</td>\n",
       "      <td>3358</td>\n",
       "      <td>109309329</td>\n",
       "      <td>27061</td>\n",
       "      <td>68.30</td>\n",
       "      <td>225.50</td>\n",
       "      <td>31.60</td>\n",
       "    </tr>\n",
       "    <tr>\n",
       "      <th>1</th>\n",
       "      <td>Feb-06</td>\n",
       "      <td>2820.0</td>\n",
       "      <td>3399.00</td>\n",
       "      <td>2800.00</td>\n",
       "      <td>3056.45</td>\n",
       "      <td>77350</td>\n",
       "      <td>8001</td>\n",
       "      <td>242294622</td>\n",
       "      <td>42901</td>\n",
       "      <td>55.46</td>\n",
       "      <td>599.00</td>\n",
       "      <td>236.45</td>\n",
       "    </tr>\n",
       "    <tr>\n",
       "      <th>2</th>\n",
       "      <td>Mar-06</td>\n",
       "      <td>3075.0</td>\n",
       "      <td>3287.50</td>\n",
       "      <td>3040.00</td>\n",
       "      <td>3103.20</td>\n",
       "      <td>55500</td>\n",
       "      <td>4988</td>\n",
       "      <td>176800378</td>\n",
       "      <td>39229</td>\n",
       "      <td>70.68</td>\n",
       "      <td>247.50</td>\n",
       "      <td>28.20</td>\n",
       "    </tr>\n",
       "    <tr>\n",
       "      <th>3</th>\n",
       "      <td>Apr-06</td>\n",
       "      <td>3160.0</td>\n",
       "      <td>4051.00</td>\n",
       "      <td>3131.00</td>\n",
       "      <td>3456.15</td>\n",
       "      <td>131712</td>\n",
       "      <td>12834</td>\n",
       "      <td>496800616</td>\n",
       "      <td>59934</td>\n",
       "      <td>45.50</td>\n",
       "      <td>920.00</td>\n",
       "      <td>296.15</td>\n",
       "    </tr>\n",
       "    <tr>\n",
       "      <th>4</th>\n",
       "      <td>May-06</td>\n",
       "      <td>3550.0</td>\n",
       "      <td>3650.00</td>\n",
       "      <td>2747.00</td>\n",
       "      <td>2789.80</td>\n",
       "      <td>29158</td>\n",
       "      <td>4432</td>\n",
       "      <td>96482558</td>\n",
       "      <td>18375</td>\n",
       "      <td>63.02</td>\n",
       "      <td>903.00</td>\n",
       "      <td>-760.20</td>\n",
       "    </tr>\n",
       "    <tr>\n",
       "      <th>...</th>\n",
       "      <td>...</td>\n",
       "      <td>...</td>\n",
       "      <td>...</td>\n",
       "      <td>...</td>\n",
       "      <td>...</td>\n",
       "      <td>...</td>\n",
       "      <td>...</td>\n",
       "      <td>...</td>\n",
       "      <td>...</td>\n",
       "      <td>...</td>\n",
       "      <td>...</td>\n",
       "      <td>...</td>\n",
       "    </tr>\n",
       "    <tr>\n",
       "      <th>120</th>\n",
       "      <td>Jan-16</td>\n",
       "      <td>40000.0</td>\n",
       "      <td>41399.95</td>\n",
       "      <td>34563.20</td>\n",
       "      <td>35607.10</td>\n",
       "      <td>26932</td>\n",
       "      <td>17034</td>\n",
       "      <td>1006108230</td>\n",
       "      <td>4729</td>\n",
       "      <td>17.56</td>\n",
       "      <td>6836.75</td>\n",
       "      <td>-4392.90</td>\n",
       "    </tr>\n",
       "    <tr>\n",
       "      <th>121</th>\n",
       "      <td>Feb-16</td>\n",
       "      <td>35672.1</td>\n",
       "      <td>35865.00</td>\n",
       "      <td>31190.00</td>\n",
       "      <td>32429.35</td>\n",
       "      <td>32170</td>\n",
       "      <td>17876</td>\n",
       "      <td>1074868513</td>\n",
       "      <td>7537</td>\n",
       "      <td>23.43</td>\n",
       "      <td>4675.00</td>\n",
       "      <td>-3242.75</td>\n",
       "    </tr>\n",
       "    <tr>\n",
       "      <th>122</th>\n",
       "      <td>Mar-16</td>\n",
       "      <td>32400.0</td>\n",
       "      <td>38969.35</td>\n",
       "      <td>32400.00</td>\n",
       "      <td>38368.50</td>\n",
       "      <td>27914</td>\n",
       "      <td>15957</td>\n",
       "      <td>977646892</td>\n",
       "      <td>5463</td>\n",
       "      <td>19.57</td>\n",
       "      <td>6569.35</td>\n",
       "      <td>5968.50</td>\n",
       "    </tr>\n",
       "    <tr>\n",
       "      <th>123</th>\n",
       "      <td>Apr-16</td>\n",
       "      <td>38100.0</td>\n",
       "      <td>38299.00</td>\n",
       "      <td>33550.05</td>\n",
       "      <td>33791.60</td>\n",
       "      <td>24913</td>\n",
       "      <td>14792</td>\n",
       "      <td>895271041</td>\n",
       "      <td>5481</td>\n",
       "      <td>22.00</td>\n",
       "      <td>4748.95</td>\n",
       "      <td>-4308.40</td>\n",
       "    </tr>\n",
       "    <tr>\n",
       "      <th>124</th>\n",
       "      <td>May-16</td>\n",
       "      <td>33714.8</td>\n",
       "      <td>34850.00</td>\n",
       "      <td>33210.50</td>\n",
       "      <td>33759.60</td>\n",
       "      <td>10552</td>\n",
       "      <td>6324</td>\n",
       "      <td>358690679</td>\n",
       "      <td>2103</td>\n",
       "      <td>19.93</td>\n",
       "      <td>1639.50</td>\n",
       "      <td>44.80</td>\n",
       "    </tr>\n",
       "  </tbody>\n",
       "</table>\n",
       "<p>125 rows × 12 columns</p>\n",
       "</div>"
      ],
      "text/plain": [
       "      Month  Open Price  High Price  Low Price  Close Price  No.of Shares  \\\n",
       "0    Jan-06      2780.0     2895.50    2670.00      2811.60         39623   \n",
       "1    Feb-06      2820.0     3399.00    2800.00      3056.45         77350   \n",
       "2    Mar-06      3075.0     3287.50    3040.00      3103.20         55500   \n",
       "3    Apr-06      3160.0     4051.00    3131.00      3456.15        131712   \n",
       "4    May-06      3550.0     3650.00    2747.00      2789.80         29158   \n",
       "..      ...         ...         ...        ...          ...           ...   \n",
       "120  Jan-16     40000.0    41399.95   34563.20     35607.10         26932   \n",
       "121  Feb-16     35672.1    35865.00   31190.00     32429.35         32170   \n",
       "122  Mar-16     32400.0    38969.35   32400.00     38368.50         27914   \n",
       "123  Apr-16     38100.0    38299.00   33550.05     33791.60         24913   \n",
       "124  May-16     33714.8    34850.00   33210.50     33759.60         10552   \n",
       "\n",
       "     No. of Trades  Total Turnover (Rs.)  Deliverable Quantity  \\\n",
       "0             3358             109309329                 27061   \n",
       "1             8001             242294622                 42901   \n",
       "2             4988             176800378                 39229   \n",
       "3            12834             496800616                 59934   \n",
       "4             4432              96482558                 18375   \n",
       "..             ...                   ...                   ...   \n",
       "120          17034            1006108230                  4729   \n",
       "121          17876            1074868513                  7537   \n",
       "122          15957             977646892                  5463   \n",
       "123          14792             895271041                  5481   \n",
       "124           6324             358690679                  2103   \n",
       "\n",
       "     % Deli. Qty to Traded Qty  Spread High-Low  Spread Close-Open  \n",
       "0                        68.30           225.50              31.60  \n",
       "1                        55.46           599.00             236.45  \n",
       "2                        70.68           247.50              28.20  \n",
       "3                        45.50           920.00             296.15  \n",
       "4                        63.02           903.00            -760.20  \n",
       "..                         ...              ...                ...  \n",
       "120                      17.56          6836.75           -4392.90  \n",
       "121                      23.43          4675.00           -3242.75  \n",
       "122                      19.57          6569.35            5968.50  \n",
       "123                      22.00          4748.95           -4308.40  \n",
       "124                      19.93          1639.50              44.80  \n",
       "\n",
       "[125 rows x 12 columns]"
      ]
     },
     "execution_count": 5,
     "metadata": {},
     "output_type": "execute_result"
    }
   ],
   "source": [
    "stock"
   ]
  },
  {
   "cell_type": "code",
   "execution_count": null,
   "metadata": {},
   "outputs": [],
   "source": [
    "stock.shape"
   ]
  },
  {
   "cell_type": "code",
   "execution_count": 6,
   "metadata": {},
   "outputs": [],
   "source": [
    "mystock=stock[['Close Price']]"
   ]
  },
  {
   "cell_type": "markdown",
   "metadata": {},
   "source": [
    "* __Function to check the stationarity__ "
   ]
  },
  {
   "cell_type": "code",
   "execution_count": 7,
   "metadata": {},
   "outputs": [],
   "source": [
    "def checkstationarity(data):\n",
    "    #adfuller() returns following()\n",
    "    #test statistics,pvalue,lags,totalobeservations\n",
    "    \n",
    "    pval=adfuller(data)[1]\n",
    "    \n",
    "    if pval > 0.05:\n",
    "        msg='pvalue={}. data not stationary '.format(pval)     \n",
    "    else:\n",
    "        msg='pvalue={}.Data is stationary'.format(pval)\n",
    "    return(msg)"
   ]
  },
  {
   "cell_type": "markdown",
   "metadata": {},
   "source": [
    "* __Check for stationarity of data__"
   ]
  },
  {
   "cell_type": "code",
   "execution_count": 8,
   "metadata": {},
   "outputs": [
    {
     "data": {
      "text/plain": [
       "'pvalue=0.9574107029213336. data not stationary '"
      ]
     },
     "execution_count": 8,
     "metadata": {},
     "output_type": "execute_result"
    }
   ],
   "source": [
    "checkstationarity(mystock)\n",
    "#so result is data is not stationary\n",
    "#since the data is not stationary ,it has to be made stationary"
   ]
  },
  {
   "cell_type": "code",
   "execution_count": 9,
   "metadata": {},
   "outputs": [
    {
     "name": "stdout",
     "output_type": "stream",
     "text": [
      "before deletating  NA.count= 125\n"
     ]
    }
   ],
   "source": [
    "diff_mystock=mystock - mystock.shift()\n",
    "print(\"before deletating  NA.count=\",len(diff_mystock))    "
   ]
  },
  {
   "cell_type": "markdown",
   "metadata": {},
   "source": [
    "* __Drop the NA from the dataset__"
   ]
  },
  {
   "cell_type": "code",
   "execution_count": 10,
   "metadata": {},
   "outputs": [],
   "source": [
    "diff_mystock.dropna(inplace=True)\n",
    "#check for count"
   ]
  },
  {
   "cell_type": "code",
   "execution_count": 11,
   "metadata": {},
   "outputs": [
    {
     "name": "stdout",
     "output_type": "stream",
     "text": [
      "After droping the NA.count= 124\n"
     ]
    }
   ],
   "source": [
    "print('After droping the NA.count=',len(diff_mystock))"
   ]
  },
  {
   "cell_type": "code",
   "execution_count": 12,
   "metadata": {},
   "outputs": [
    {
     "name": "stdout",
     "output_type": "stream",
     "text": [
      "     Close Price\n",
      "1         244.85\n",
      "2          46.75\n",
      "3         352.95\n",
      "4        -666.35\n",
      "5        -393.95\n",
      "..           ...\n",
      "120     -4240.50\n",
      "121     -3177.75\n",
      "122      5939.15\n",
      "123     -4576.90\n",
      "124       -32.00\n",
      "\n",
      "[124 rows x 1 columns]\n"
     ]
    },
    {
     "data": {
      "text/plain": [
       "'pvalue=5.060193512253538e-23.Data is stationary'"
      ]
     },
     "execution_count": 12,
     "metadata": {},
     "output_type": "execute_result"
    }
   ],
   "source": [
    "print(diff_mystock)\n",
    "checkstationarity(diff_mystock)\n",
    "#data has shown now stationary"
   ]
  },
  {
   "cell_type": "markdown",
   "metadata": {},
   "source": [
    "* __Plot the actual and stationary data__"
   ]
  },
  {
   "cell_type": "code",
   "execution_count": 19,
   "metadata": {},
   "outputs": [
    {
     "data": {
      "text/plain": [
       "Text(0.5, 1.0, 'Actual close price')"
      ]
     },
     "execution_count": 19,
     "metadata": {},
     "output_type": "execute_result"
    },
    {
     "data": {
      "image/png": "[encoded data removed]",
      "text/plain": [
       "<Figure size 1440x432 with 1 Axes>"
      ]
     },
     "metadata": {
      "needs_background": "light"
     },
     "output_type": "display_data"
    }
   ],
   "source": [
    "plt.figure(figsize=(20,6))    \n",
    "plt.subplot(121)\n",
    "plt.plot(mystock,color='red')\n",
    "plt.title('Actual close price')"
   ]
  },
  {
   "cell_type": "code",
   "execution_count": 20,
   "metadata": {},
   "outputs": [
    {
     "data": {
      "text/plain": [
       "Text(0.5, 1.0, 'Difffrence closed price(stationary)')"
      ]
     },
     "execution_count": 20,
     "metadata": {},
     "output_type": "execute_result"
    },
    {
     "data": {
      "image/png": "[encoded data removed]",
      "text/plain": [
       "<Figure size 1440x432 with 1 Axes>"
      ]
     },
     "metadata": {
      "needs_background": "light"
     },
     "output_type": "display_data"
    }
   ],
   "source": [
    "plt.figure(figsize=(20,6))\n",
    "plt.subplot(122)\n",
    "plt.plot(diff_mystock, color='green')\n",
    "plt.title('Difffrence closed price(stationary)')"
   ]
  },
  {
   "cell_type": "markdown",
   "metadata": {},
   "source": [
    "* __Plot the Coreelogram to identify the p and q (lags for AR and MA process)__"
   ]
  },
  {
   "cell_type": "markdown",
   "metadata": {},
   "source": [
    "* Set the PACF and ACF lag value "
   ]
  },
  {
   "cell_type": "code",
   "execution_count": 21,
   "metadata": {},
   "outputs": [
    {
     "name": "stderr",
     "output_type": "stream",
     "text": [
      "E:\\anaconda\\lib\\site-packages\\statsmodels\\tsa\\stattools.py:662: FutureWarning: fft=True will become the default after the release of the 0.12 release of statsmodels. To suppress this warning, explicitly set fft=False.\n",
      "  warnings.warn(\n"
     ]
    },
    {
     "data": {
      "text/plain": [
       "array([ 1.        , -0.11866481,  0.01641407,  0.09425708, -0.02578384,\n",
       "       -0.02749401,  0.02190857, -0.00741127,  0.17656038, -0.08850269,\n",
       "        0.2272589 ,  0.04619164,  0.03012128, -0.09509764, -0.0177338 ,\n",
       "       -0.02434713, -0.14879876, -0.2862637 , -0.00127917, -0.09145898,\n",
       "       -0.07174658])"
      ]
     },
     "execution_count": 21,
     "metadata": {},
     "output_type": "execute_result"
    }
   ],
   "source": [
    "lags_pacf=pacf(diff_mystock,nlags=20)\n",
    "lags_acf=acf(diff_mystock,nlags=20)\n",
    "lags_pacf"
   ]
  },
  {
   "cell_type": "markdown",
   "metadata": {},
   "source": [
    "ACF to identify p<br>\n",
    "lotting of pacf and acf"
   ]
  },
  {
   "cell_type": "code",
   "execution_count": 23,
   "metadata": {},
   "outputs": [
    {
     "ename": "TypeError",
     "evalue": "unsupported operand type(s) for /: 'float' and 'numpy.ufunc'",
     "output_type": "error",
     "traceback": [
      "\u001b[1;31m---------------------------------------------------------------------------\u001b[0m",
      "\u001b[1;31mTypeError\u001b[0m                                 Traceback (most recent call last)",
      "\u001b[1;32m<ipython-input-23-3a31a7c994bd>\u001b[0m in \u001b[0;36m<module>\u001b[1;34m\u001b[0m\n\u001b[0;32m      3\u001b[0m \u001b[0mplt\u001b[0m\u001b[1;33m.\u001b[0m\u001b[0mplot\u001b[0m\u001b[1;33m(\u001b[0m\u001b[0mlags_pacf\u001b[0m\u001b[1;33m)\u001b[0m\u001b[1;33m\u001b[0m\u001b[1;33m\u001b[0m\u001b[0m\n\u001b[0;32m      4\u001b[0m \u001b[0mplt\u001b[0m\u001b[1;33m.\u001b[0m\u001b[0maxhline\u001b[0m\u001b[1;33m(\u001b[0m\u001b[0my\u001b[0m\u001b[1;33m=\u001b[0m\u001b[1;36m0\u001b[0m\u001b[1;33m,\u001b[0m\u001b[0mlinestyle\u001b[0m\u001b[1;33m=\u001b[0m\u001b[1;34m'-'\u001b[0m\u001b[1;33m,\u001b[0m\u001b[0mcolor\u001b[0m\u001b[1;33m=\u001b[0m\u001b[1;34m'gray'\u001b[0m\u001b[1;33m)\u001b[0m\u001b[1;33m\u001b[0m\u001b[1;33m\u001b[0m\u001b[0m\n\u001b[1;32m----> 5\u001b[1;33m \u001b[0mplt\u001b[0m\u001b[1;33m.\u001b[0m\u001b[0maxhline\u001b[0m\u001b[1;33m(\u001b[0m\u001b[0my\u001b[0m\u001b[1;33m=\u001b[0m\u001b[1;33m-\u001b[0m\u001b[1;36m1.96\u001b[0m\u001b[1;33m/\u001b[0m\u001b[0mnp\u001b[0m\u001b[1;33m.\u001b[0m\u001b[0msqrt\u001b[0m\u001b[1;33m)\u001b[0m\u001b[1;33m\u001b[0m\u001b[1;33m\u001b[0m\u001b[0m\n\u001b[0m",
      "\u001b[1;31mTypeError\u001b[0m: unsupported operand type(s) for /: 'float' and 'numpy.ufunc'"
     ]
    },
    {
     "data": {
      "image/png": "[encoded data removed]",
      "text/plain": [
       "<Figure size 1440x432 with 1 Axes>"
      ]
     },
     "metadata": {
      "needs_background": "light"
     },
     "output_type": "display_data"
    }
   ],
   "source": [
    "plt.figure(figsize=(20,6))\n",
    "plt.subplot(121)\n",
    "plt.plot(lags_pacf)\n",
    "plt.axhline(y=0,linestyle='-',color='gray')\n",
    "plt.axhline(y=-1.96/np.sqrt)"
   ]
  },
  {
   "cell_type": "code",
   "execution_count": 24,
   "metadata": {},
   "outputs": [],
   "source": [
    "p=0;q=0;d=0\n",
    "#build the ARIMA model"
   ]
  },
  {
   "cell_type": "code",
   "execution_count": 25,
   "metadata": {},
   "outputs": [
    {
     "name": "stderr",
     "output_type": "stream",
     "text": [
      "E:\\anaconda\\lib\\site-packages\\statsmodels\\tsa\\arima_model.py:472: FutureWarning: \n",
      "statsmodels.tsa.arima_model.ARMA and statsmodels.tsa.arima_model.ARIMA have\n",
      "been deprecated in favor of statsmodels.tsa.arima.model.ARIMA (note the .\n",
      "between arima and model) and\n",
      "statsmodels.tsa.SARIMAX. These will be removed after the 0.12 release.\n",
      "\n",
      "statsmodels.tsa.arima.model.ARIMA makes use of the statespace framework and\n",
      "is both well tested and maintained.\n",
      "\n",
      "To silence this warning and continue using ARMA and ARIMA until they are\n",
      "removed, use:\n",
      "\n",
      "import warnings\n",
      "warnings.filterwarnings('ignore', 'statsmodels.tsa.arima_model.ARMA',\n",
      "                        FutureWarning)\n",
      "warnings.filterwarnings('ignore', 'statsmodels.tsa.arima_model.ARIMA',\n",
      "                        FutureWarning)\n",
      "\n",
      "  warnings.warn(ARIMA_DEPRECATION_WARN, FutureWarning)\n",
      "E:\\anaconda\\lib\\site-packages\\statsmodels\\tsa\\base\\tsa_model.py:578: ValueWarning: An unsupported index was provided and will be ignored when e.g. forecasting.\n",
      "  warnings.warn('An unsupported index was provided and will be'\n"
     ]
    },
    {
     "data": {
      "text/html": [
       "<table class=\"simpletable\">\n",
       "<caption>ARMA Model Results</caption>\n",
       "<tr>\n",
       "  <th>Dep. Variable:</th>    <td>Close Price</td>   <th>  No. Observations:  </th>    <td>124</td>   \n",
       "</tr>\n",
       "<tr>\n",
       "  <th>Model:</th>            <td>ARMA(0, 0)</td>    <th>  Log Likelihood     </th> <td>-1096.589</td>\n",
       "</tr>\n",
       "<tr>\n",
       "  <th>Method:</th>               <td>css</td>       <th>  S.D. of innovations</th> <td>1676.599</td> \n",
       "</tr>\n",
       "<tr>\n",
       "  <th>Date:</th>          <td>Sun, 20 Jun 2021</td> <th>  AIC                </th> <td>2197.178</td> \n",
       "</tr>\n",
       "<tr>\n",
       "  <th>Time:</th>              <td>10:28:25</td>     <th>  BIC                </th> <td>2202.819</td> \n",
       "</tr>\n",
       "<tr>\n",
       "  <th>Sample:</th>                <td>0</td>        <th>  HQIC               </th> <td>2199.470</td> \n",
       "</tr>\n",
       "<tr>\n",
       "  <th></th>                       <td> </td>        <th>                     </th>     <td> </td>    \n",
       "</tr>\n",
       "</table>\n",
       "<table class=\"simpletable\">\n",
       "<tr>\n",
       "    <td></td>       <th>coef</th>     <th>std err</th>      <th>z</th>      <th>P>|z|</th>  <th>[0.025</th>    <th>0.975]</th>  \n",
       "</tr>\n",
       "<tr>\n",
       "  <th>const</th> <td>  249.5806</td> <td>  150.563</td> <td>    1.658</td> <td> 0.097</td> <td>  -45.517</td> <td>  544.679</td>\n",
       "</tr>\n",
       "</table>"
      ],
      "text/plain": [
       "<class 'statsmodels.iolib.summary.Summary'>\n",
       "\"\"\"\n",
       "                              ARMA Model Results                              \n",
       "==============================================================================\n",
       "Dep. Variable:            Close Price   No. Observations:                  124\n",
       "Model:                     ARMA(0, 0)   Log Likelihood               -1096.589\n",
       "Method:                           css   S.D. of innovations           1676.599\n",
       "Date:                Sun, 20 Jun 2021   AIC                           2197.178\n",
       "Time:                        10:28:25   BIC                           2202.819\n",
       "Sample:                             0   HQIC                          2199.470\n",
       "                                                                              \n",
       "==============================================================================\n",
       "                 coef    std err          z      P>|z|      [0.025      0.975]\n",
       "------------------------------------------------------------------------------\n",
       "const        249.5806    150.563      1.658      0.097     -45.517     544.679\n",
       "==============================================================================\n",
       "\"\"\""
      ]
     },
     "execution_count": 25,
     "metadata": {},
     "output_type": "execute_result"
    }
   ],
   "source": [
    "m1=ARIMA(diff_mystock, order=(p,q,d)).fit(disp=0)\n",
    "m1.summary()"
   ]
  },
  {
   "cell_type": "markdown",
   "metadata": {},
   "source": [
    "*__Plot Ljung-box test to check the model goodnes__"
   ]
  },
  {
   "cell_type": "code",
   "execution_count": 26,
   "metadata": {},
   "outputs": [
    {
     "data": {
      "text/plain": [
       "Text(0.5, 1.0, 'ARIMA model residuals')"
      ]
     },
     "execution_count": 26,
     "metadata": {},
     "output_type": "execute_result"
    },
    {
     "data": {
      "image/png": "[encoded data removed]",
      "text/plain": [
       "<Figure size 432x288 with 1 Axes>"
      ]
     },
     "metadata": {
      "needs_background": "light"
     },
     "output_type": "display_data"
    }
   ],
   "source": [
    "plt.hist(m1.resid)\n",
    "plt.title('ARIMA model residuals')\n",
    "#so its noramlly distributed"
   ]
  },
  {
   "cell_type": "markdown",
   "metadata": {},
   "source": [
    "Ljung box test to check the model goodness<br>\n",
    "0:residuals are independantly distributed<br>\n",
    "1:residuals are not independaantly distributed"
   ]
  },
  {
   "cell_type": "code",
   "execution_count": 27,
   "metadata": {},
   "outputs": [
    {
     "name": "stderr",
     "output_type": "stream",
     "text": [
      "E:\\anaconda\\lib\\site-packages\\statsmodels\\stats\\diagnostic.py:559: FutureWarning: The value returned will change to a single DataFrame after 0.12 is released.  Set return_df to True to use to return a DataFrame now.  Set return_df to False to silence this warning.\n",
      "  warnings.warn(msg, FutureWarning)\n"
     ]
    },
    {
     "data": {
      "text/plain": [
       "array([0.18463199])"
      ]
     },
     "execution_count": 27,
     "metadata": {},
     "output_type": "execute_result"
    }
   ],
   "source": [
    "pvalue=sm.stats.acorr_ljungbox(m1.resid,lags=[1])[1] \n",
    "pvalue"
   ]
  },
  {
   "cell_type": "code",
   "execution_count": 28,
   "metadata": {},
   "outputs": [
    {
     "name": "stdout",
     "output_type": "stream",
     "text": [
      "failed to reject null hypo residuals are indepenantly distrbuted\n"
     ]
    }
   ],
   "source": [
    "if pvalue >0.05 :\n",
    "    print('failed to reject null hypo residuals are indepenantly distrbuted')\n",
    "else:\n",
    "    print('Reject H0.residuals are not indepenantly distrbuted')\n",
    "    \n",
    "    \n",
    "#Forecast for the next 12 months"
   ]
  },
  {
   "cell_type": "code",
   "execution_count": 29,
   "metadata": {},
   "outputs": [],
   "source": [
    "f1=m1.forecast(steps=12)"
   ]
  },
  {
   "cell_type": "markdown",
   "metadata": {},
   "source": [
    "* __here actual forecast values are the first set of values in the ouput"
   ]
  },
  {
   "cell_type": "code",
   "execution_count": 30,
   "metadata": {},
   "outputs": [
    {
     "name": "stdout",
     "output_type": "stream",
     "text": [
      "[249.58064516 249.58064516 249.58064516 249.58064516 249.58064516\n",
      " 249.58064516 249.58064516 249.58064516 249.58064516 249.58064516\n",
      " 249.58064516 249.58064516]\n"
     ]
    },
    {
     "data": {
      "text/plain": [
       "120    35607.10\n",
       "121    32429.35\n",
       "122    38368.50\n",
       "123    33791.60\n",
       "124    33759.60\n",
       "Name: Close Price, dtype: float64"
      ]
     },
     "execution_count": 30,
     "metadata": {},
     "output_type": "execute_result"
    }
   ],
   "source": [
    "forecasts=f1[0]\n",
    "print(forecasts)\n",
    "stock['Close Price'].tail()\n",
    "#now add the forcast to the curretn value of stock"
   ]
  },
  {
   "cell_type": "code",
   "execution_count": null,
   "metadata": {},
   "outputs": [],
   "source": []
  }
 ],
 "metadata": {
  "kernelspec": {
   "display_name": "Python 3",
   "language": "python",
   "name": "python3"
  },
  "language_info": {
   "codemirror_mode": {
    "name": "ipython",
    "version": 3
   },
   "file_extension": ".py",
   "mimetype": "text/x-python",
   "name": "python",
   "nbconvert_exporter": "python",
   "pygments_lexer": "ipython3",
   "version": "3.8.5"
  }
 },
 "nbformat": 4,
 "nbformat_minor": 2
}
